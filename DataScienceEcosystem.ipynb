{
 "cells": [
  {
   "cell_type": "markdown",
   "id": "29ae329f-1df9-4d7a-aa6b-ae558619e1fd",
   "metadata": {},
   "source": [
    "# Data Science Tools and Ecosystem"
   ]
  },
  {
   "cell_type": "markdown",
   "id": "9d956742-7df7-40b8-ac08-a5ae1f9e4b32",
   "metadata": {},
   "source": [
    "## In this notebook, Data Science Tools and Ecosystem are summarized."
   ]
  },
  {
   "cell_type": "markdown",
   "id": "50226bcf-68b5-4336-b1fe-091c6a3dc51b",
   "metadata": {},
   "source": [
    "### Some of the popular languages that Data Scientists use are:"
   ]
  },
  {
   "cell_type": "markdown",
   "id": "530ef53a-9361-4f46-8912-3d89540c8a0d",
   "metadata": {
    "tags": []
   },
   "source": [
    "1. Python\n",
    "2. R\n",
    "3. JavaScript\n",
    "4. SQL\n",
    "5. Scala"
   ]
  },
  {
   "cell_type": "code",
   "execution_count": null,
   "id": "831c9d2b-4b1e-42a4-a7a0-c17943e6fe8e",
   "metadata": {},
   "outputs": [],
   "source": []
  },
  {
   "cell_type": "markdown",
   "id": "46f85969-0c28-4869-a7f7-68cfafb0649d",
   "metadata": {
    "tags": []
   },
   "source": [
    "### Some of the commonly used libraries used by Data Scientists include"
   ]
  },
  {
   "cell_type": "markdown",
   "id": "fe10115a-a036-4842-9700-8a297a08e3c0",
   "metadata": {
    "tags": []
   },
   "source": [
    "###\n",
    "1. Matplotlib\n",
    "2. SciPy\n",
    "3. Pandas\n",
    "4. NumPy"
   ]
  },
  {
   "cell_type": "markdown",
   "id": "e01229f1-8a87-4352-b762-b49526ef6a13",
   "metadata": {
    "tags": []
   },
   "source": [
    "### Data Science Tools \n",
    "1. Jupyter Notebooks \n",
    "2. GitHub \n",
    "3. Apache Hadoop"
   ]
  },
  {
   "cell_type": "markdown",
   "id": "bceb22c6-28bb-4faf-b268-3d0ae1484474",
   "metadata": {},
   "source": [
    "### Below are a few examples of evaluating arithmetic expressions in Python"
   ]
  },
  {
   "cell_type": "markdown",
   "id": "673664ec-a537-40e4-8a9b-8f0c56616b25",
   "metadata": {},
   "source": [
    "This a simple arithmetic expression to mutiply then add integers"
   ]
  },
  {
   "cell_type": "code",
   "execution_count": 26,
   "id": "942f9141-3cbd-43e1-ba0c-8dba5d284900",
   "metadata": {
    "tags": []
   },
   "outputs": [],
   "source": [
    "sum = 3*4+5"
   ]
  },
  {
   "cell_type": "code",
   "execution_count": 27,
   "id": "6516d743-f7b4-444b-99d6-11b093a655a4",
   "metadata": {
    "tags": []
   },
   "outputs": [
    {
     "name": "stdout",
     "output_type": "stream",
     "text": [
      "17\n"
     ]
    }
   ],
   "source": [
    "print(sum)"
   ]
  },
  {
   "cell_type": "markdown",
   "id": "959dae5b-caeb-4fe6-abaf-6cdd77a61c10",
   "metadata": {},
   "source": [
    "This will convert 200 minutes to hours by dividing by 60"
   ]
  },
  {
   "cell_type": "code",
   "execution_count": 37,
   "id": "a0de5416-7f9f-464e-a9eb-430eff4d8c2d",
   "metadata": {
    "tags": []
   },
   "outputs": [],
   "source": [
    "totalhours = 200/60"
   ]
  },
  {
   "cell_type": "code",
   "execution_count": 38,
   "id": "f2d0ecd1-a542-418b-9baa-f0eea6794312",
   "metadata": {
    "tags": []
   },
   "outputs": [
    {
     "name": "stdout",
     "output_type": "stream",
     "text": [
      "3.3333333333333335\n"
     ]
    }
   ],
   "source": [
    "print(totalhours)"
   ]
  },
  {
   "cell_type": "markdown",
   "id": "3af3ec3a-feb3-4b9d-b9f3-99fad4972dab",
   "metadata": {},
   "source": [
    "### Objectives\n",
    "List popular languages for Data Science, List common libraries used, List open source tools"
   ]
  },
  {
   "cell_type": "markdown",
   "id": "77736e85-5027-4f61-bc1c-fa1bf7de82b3",
   "metadata": {},
   "source": [
    "## Author\n",
    "David Nickell"
   ]
  },
  {
   "cell_type": "code",
   "execution_count": null,
   "id": "89652dd5-938d-4951-8848-7610833d2929",
   "metadata": {},
   "outputs": [],
   "source": []
  }
 ],
 "metadata": {
  "kernelspec": {
   "display_name": "Python",
   "language": "python",
   "name": "conda-env-python-py"
  },
  "language_info": {
   "codemirror_mode": {
    "name": "ipython",
    "version": 3
   },
   "file_extension": ".py",
   "mimetype": "text/x-python",
   "name": "python",
   "nbconvert_exporter": "python",
   "pygments_lexer": "ipython3",
   "version": "3.7.12"
  }
 },
 "nbformat": 4,
 "nbformat_minor": 5
}
